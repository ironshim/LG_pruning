{
 "cells": [
  {
   "cell_type": "markdown",
   "metadata": {},
   "source": [
    "# SNIP: Single-shot Network Pruning based on Connection Sensitivity, 19`ICLR\n",
    "#### code mainly dependent on https://github.com/mil-ad/snip"
   ]
  },
  {
   "cell_type": "markdown",
   "metadata": {},
   "source": [
    "#### MNIST dataset, LeNet_300_100 model (260 K)"
   ]
  },
  {
   "cell_type": "code",
   "execution_count": 1,
   "metadata": {},
   "outputs": [],
   "source": [
    "import os\n",
    "import copy\n",
    "import types\n",
    "import time\n",
    "\n",
    "import torch\n",
    "import torch.nn as nn\n",
    "import torch.nn.functional as F\n",
    "import torch.optim as optim\n",
    "from torch.utils.data import DataLoader\n",
    "\n",
    "from torchvision.datasets import CIFAR10\n",
    "from torchvision.transforms import Compose, ToTensor, Normalize\n",
    "from torchvision import transforms\n",
    "\n",
    "#from tensorboardX import SummaryWriter\n",
    "from ignite.engine import Events, create_supervised_trainer, create_supervised_evaluator\n",
    "from ignite.metrics import Accuracy, Loss\n",
    "from ignite.contrib.handlers import ProgressBar\n",
    "\n",
    "from snip import SNIP\n",
    "from train import mnist_experiment, apply_prune_mask\n",
    "\n",
    "from matplotlib.pyplot import imshow\n",
    "import numpy as np\n",
    "from PIL import Image\n",
    "\n",
    "%matplotlib inline\n",
    "\n",
    "torch.manual_seed(42)\n",
    "torch.backends.cudnn.deterministic = True\n",
    "torch.backends.cudnn.benchmark = False\n",
    "\n",
    "os.environ['CUDA_DEVICE_ORDER'] = 'PCI_BUS_ID'\n",
    "os.environ['CUDA_VISIBLE_DEVICES'] = '1'\n",
    "device = torch.device(\"cuda\" if torch.cuda.is_available() else \"cpu\")"
   ]
  },
  {
   "cell_type": "markdown",
   "metadata": {},
   "source": [
    "training configuration"
   ]
  },
  {
   "cell_type": "code",
   "execution_count": 2,
   "metadata": {},
   "outputs": [],
   "source": [
    "LOG_INTERVAL = 20\n",
    "INIT_LR = 0.1\n",
    "WEIGHT_DECAY_RATE = 0.0005\n",
    "EPOCHS = 250\n",
    "REPEAT_WITH_DIFFERENT_SEED = 1\n",
    "\n",
    "BATCH_SIZE = 100\n",
    "LR_DECAY_INTERVAL = 25000"
   ]
  },
  {
   "cell_type": "markdown",
   "metadata": {},
   "source": [
    "## SNIP algorithm\n",
    "\n",
    "1. 1개의 minibatch 샘플링\n",
    "2. 모델 파라미터 (weight) variance scaling initialization\n",
    "3. loss의 c에 대한 gradient를 구해서 connection sensitivity 계산\n",
    "4. connection sensitivity sorting 후 pruning (top-k)\n",
    "5. 프루닝된 모델 학습"
   ]
  },
  {
   "cell_type": "markdown",
   "metadata": {},
   "source": [
    "## Start pruning"
   ]
  },
  {
   "cell_type": "code",
   "execution_count": 3,
   "metadata": {
    "collapsed": true,
    "jupyter": {
     "outputs_hidden": true
    }
   },
   "outputs": [
    {
     "name": "stdout",
     "output_type": "stream",
     "text": [
      "tensor(13310, device='cuda:0')\n",
      "Pruning is done in 2.09 sec.\n"
     ]
    }
   ],
   "source": [
    "net, optimiser, lr_scheduler, train_loader, val_loader = mnist_experiment(device)\n",
    "\n",
    "# Pre-training pruning using SNIP\n",
    "t = time.time()\n",
    "keep_masks = SNIP(net, 0.05, train_loader, device)  # 95% pruning\n",
    "apply_prune_mask(net, keep_masks)\n",
    "print('Pruning is done in {:.2f} sec.'.format(time.time()-t))"
   ]
  },
  {
   "cell_type": "code",
   "execution_count": 4,
   "metadata": {
    "collapsed": true,
    "jupyter": {
     "outputs_hidden": true
    }
   },
   "outputs": [
    {
     "name": "stdout",
     "output_type": "stream",
     "text": [
      "torch.Size([784, 300])\n"
     ]
    }
   ],
   "source": [
    "conv1_mask = keep_masks[0].t()\n",
    "print(conv1_mask.size())"
   ]
  },
  {
   "cell_type": "code",
   "execution_count": 5,
   "metadata": {
    "collapsed": true,
    "jupyter": {
     "outputs_hidden": true
    }
   },
   "outputs": [
    {
     "data": {
      "text/plain": [
       "<matplotlib.image.AxesImage at 0x7fbedc563610>"
      ]
     },
     "execution_count": 5,
     "metadata": {},
     "output_type": "execute_result"
    },
    {
     "data": {
      "image/png": "[encoded data removed]",
      "text/plain": [
       "<Figure size 432x288 with 1 Axes>"
      ]
     },
     "metadata": {
      "needs_background": "light"
     },
     "output_type": "display_data"
    }
   ],
   "source": [
    "conv1 = conv1_mask.mean(1).reshape(28, 28).cpu().numpy()\n",
    "imshow(np.asarray(conv1), cmap='gray')"
   ]
  },
  {
   "cell_type": "code",
   "execution_count": 6,
   "metadata": {
    "collapsed": true,
    "jupyter": {
     "outputs_hidden": true
    }
   },
   "outputs": [
    {
     "name": "stdout",
     "output_type": "stream",
     "text": [
      "tensor(13310, device='cuda:0')\n",
      "Pruning is done in 8.04 sec.\n"
     ]
    },
    {
     "data": {
      "text/plain": [
       "<matplotlib.image.AxesImage at 0x7fbedc4ff1c0>"
      ]
     },
     "execution_count": 6,
     "metadata": {},
     "output_type": "execute_result"
    },
    {
     "data": {
      "image/png": "[encoded data removed]",
      "text/plain": [
       "<Figure size 432x288 with 1 Axes>"
      ]
     },
     "metadata": {
      "needs_background": "light"
     },
     "output_type": "display_data"
    }
   ],
   "source": [
    "# Pre-training pruning using SKIP\n",
    "t = time.time()\n",
    "keep_masks = SNIP(net, 0.05, train_loader, device, label=3)  # only 3's\n",
    "apply_prune_mask(net, keep_masks)\n",
    "print('Pruning is done in {:.2f} sec.'.format(time.time()-t))\n",
    "\n",
    "conv1_mask = keep_masks[0].t()\n",
    "conv1 = conv1_mask.mean(1).reshape(28, 28).cpu().numpy()\n",
    "imshow(np.asarray(conv1), cmap='gray')"
   ]
  },
  {
   "cell_type": "markdown",
   "metadata": {},
   "source": [
    "## Start training"
   ]
  },
  {
   "cell_type": "code",
   "execution_count": null,
   "metadata": {},
   "outputs": [],
   "source": [
    "#writer = SummaryWriter()\n",
    "trainer = create_supervised_trainer(net, optimiser, F.nll_loss, device)\n",
    "evaluator = create_supervised_evaluator(net, {\n",
    "    'accuracy': Accuracy(),\n",
    "    'nll': Loss(F.nll_loss)\n",
    "}, device)\n",
    "\n",
    "pbar = ProgressBar()\n",
    "pbar.attach(trainer)\n",
    "\n",
    "@trainer.on(Events.ITERATION_COMPLETED)\n",
    "def log_training_loss(engine):\n",
    "    lr_scheduler.step()\n",
    "    iter_in_epoch = (engine.state.iteration - 1) % len(train_loader) + 1\n",
    "#     if engine.state.iteration % LOG_INTERVAL == 0:\n",
    "#         # pbar.log_message(\"Epoch[{}] Iteration[{}/{}] Loss: {:.2f}\"\n",
    "#         #       \"\".format(engine.state.epoch, iter_in_epoch, len(train_loader), engine.state.output))\n",
    "#         writer.add_scalar(\"training/loss\", engine.state.output,\n",
    "#                           engine.state.iteration)\n",
    "\n",
    "@trainer.on(Events.EPOCH_COMPLETED)\n",
    "def log_epoch(engine):\n",
    "    evaluator.run(val_loader)\n",
    "\n",
    "    metrics = evaluator.state.metrics\n",
    "    avg_accuracy = metrics['accuracy']\n",
    "    avg_nll = metrics['nll']\n",
    "\n",
    "    # pbar.log_message(\"Validation Results - Epoch: {}  Avg accuracy: {:.2f} Avg loss: {:.2f}\"\n",
    "    #       .format(engine.state.epoch, avg_accuracy, avg_nll))\n",
    "\n",
    "#     writer.add_scalar(\"validation/loss\", avg_nll, engine.state.iteration)\n",
    "#     writer.add_scalar(\"validation/accuracy\", avg_accuracy,\n",
    "#                       engine.state.iteration)\n",
    "\n",
    "trainer.run(train_loader, EPOCHS)"
   ]
  },
  {
   "cell_type": "code",
   "execution_count": null,
   "metadata": {},
   "outputs": [],
   "source": []
  }
 ],
 "metadata": {
  "kernelspec": {
   "display_name": "Python 3",
   "language": "python",
   "name": "python3"
  },
  "language_info": {
   "codemirror_mode": {
    "name": "ipython",
    "version": 3
   },
   "file_extension": ".py",
   "mimetype": "text/x-python",
   "name": "python",
   "nbconvert_exporter": "python",
   "pygments_lexer": "ipython3",
   "version": "3.8.3"
  }
 },
 "nbformat": 4,
 "nbformat_minor": 4
}
