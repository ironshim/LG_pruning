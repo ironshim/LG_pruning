{
 "cells": [
  {
   "cell_type": "markdown",
   "metadata": {},
   "source": [
    "Learning both Weight and Connections for Efficient Neural Networks, 15`NIPS\n",
    "===\n",
    "modified from https://github.com/jack-willturner/DeepCompression-PyTorch"
   ]
  },
  {
   "cell_type": "markdown",
   "metadata": {},
   "source": [
    "## Settings"
   ]
  },
  {
   "cell_type": "code",
   "execution_count": 33,
   "metadata": {},
   "outputs": [],
   "source": [
    "import torch\n",
    "import torch.nn as nn\n",
    "import torch.optim as optim\n",
    "import torch.optim.lr_scheduler as lr_scheduler\n",
    "\n",
    "import torchvision\n",
    "import torchvision.transforms as transforms\n",
    "\n",
    "import os\n",
    "import json\n",
    "import argparse\n",
    "from models import *\n",
    "from utils  import *\n",
    "from tqdm   import tqdm"
   ]
  },
  {
   "cell_type": "code",
   "execution_count": 34,
   "metadata": {},
   "outputs": [],
   "source": [
    "parser = argparse.ArgumentParser(description='PyTorch CIFAR10 Training')\n",
    "parser.add_argument('--model',      default='resnet9', help='VGG-16, ResNet-18, LeNet')\n",
    "parser.add_argument('--data_loc',   default='../datasets/cifar', type=str)\n",
    "parser.add_argument('--checkpoint', default='resnet9', type=str, help='Pretrained model to start from')\n",
    "parser.add_argument('--prune_checkpoint', default='', type=str, help='Where to save pruned models')\n",
    "parser.add_argument('--GPU', default='0', type=str,help='GPU to use')\n",
    "parser.add_argument('--save_every', default=5, type=int, help='How often to save checkpoints in number of prunes (e.g. 10 = every 10 prunes)')\n",
    "parser.add_argument('--cutout', action='store_true')\n",
    "\n",
    "### training specific args\n",
    "parser.add_argument('--finetune_steps', default=100)\n",
    "parser.add_argument('--lr',             default=0.001)\n",
    "parser.add_argument('--weight_decay', default=0.0005, type=float)\n",
    "\n",
    "args = parser.parse_args('')"
   ]
  },
  {
   "cell_type": "code",
   "execution_count": 35,
   "metadata": {},
   "outputs": [],
   "source": [
    "device = torch.device(\"cuda:0\" if torch.cuda.is_available() else \"cpu\")\n",
    "if torch.cuda.is_available():\n",
    "    os.environ[\"CUDA_VISIBLE_DEVICES\"]=args.GPU"
   ]
  },
  {
   "cell_type": "markdown",
   "metadata": {},
   "source": [
    "## Dictionary of models to prune; "
   ]
  },
  {
   "cell_type": "markdown",
   "metadata": {},
   "source": [
    "### for practice, we're going to use ResNet9"
   ]
  },
  {
   "cell_type": "code",
   "execution_count": 36,
   "metadata": {},
   "outputs": [],
   "source": [
    "models = {'resnet9'  : ResNet9(),\n",
    "          'resnet18' : ResNet18(),\n",
    "          'resnet34' : ResNet34(),\n",
    "          'resnet50' : ResNet50(),\n",
    "          'wrn_40_2' : WideResNet(40, 2),\n",
    "          'wrn_16_2' : WideResNet(16, 2),\n",
    "          'wrn_40_1' : WideResNet(40, 1)}\n",
    "\n",
    "model = models[args.model]"
   ]
  },
  {
   "cell_type": "markdown",
   "metadata": {},
   "source": [
    "### before moving on, let's take a look at the structure of ResNet"
   ]
  },
  {
   "cell_type": "code",
   "execution_count": 5,
   "metadata": {},
   "outputs": [],
   "source": [
    "import torch\n",
    "import torch.nn as nn\n",
    "import torch.nn.functional as F\n",
    "\n",
    "class Shortcut(nn.Module):\n",
    "    def __init__(self, in_planes, planes, expansion=1, kernel_size=1, stride=1, bias=False, mode='train'):\n",
    "        super(Shortcut, self).__init__()\n",
    "        self.mode = mode\n",
    "        self.conv1 = nn.Conv2d(in_planes, expansion*planes, kernel_size=kernel_size, stride=stride, bias=False)\n",
    "        self.mask1 = nn.Conv2d(in_planes, expansion*planes, kernel_size=kernel_size, stride=stride, bias=False)\n",
    "        self.mask1.weight.data = torch.ones(self.mask1.weight.size())\n",
    "        self.bn1 = nn.BatchNorm2d(expansion*planes)\n",
    "\n",
    "    def forward(self, x):\n",
    "        self.conv1.weight.data = torch.mul(self.conv1.weight,  self.mask1.weight)\n",
    "        return self.bn1(self.conv1(x))\n",
    "\n",
    "    def __prune__(self, threshold):\n",
    "        self.mode = 'prune'\n",
    "        self.mask1.weight.data = torch.mul(torch.gt(torch.abs(self.conv1.weight), threshold).float(), self.mask1.weight)\n",
    "\n",
    "class BasicBlock(nn.Module):\n",
    "    expansion = 1\n",
    "\n",
    "    def __init__(self, in_planes, planes, stride=1, mode='train'):\n",
    "        super(BasicBlock, self).__init__()\n",
    "        self.mode  = mode\n",
    "        self.conv1 = nn.Conv2d(in_planes, planes, kernel_size=3, stride=stride, padding=1, bias=False)\n",
    "        self.mask1 = nn.Conv2d(in_planes, planes, kernel_size=3, stride=stride, padding=1, bias=False)\n",
    "        self.mask1.weight.data = torch.ones(self.mask1.weight.size())\n",
    "        self.bn1   = nn.BatchNorm2d(planes)\n",
    "\n",
    "        self.conv2 = nn.Conv2d(planes, planes, kernel_size=3, stride=1, padding=1, bias=False)\n",
    "        self.mask2 = nn.Conv2d(planes, planes, kernel_size=3, stride=1, padding=1, bias=False)\n",
    "        self.mask2.weight.data = torch.ones(self.mask2.weight.size())\n",
    "        self.bn2   = nn.BatchNorm2d(planes)\n",
    "        self.shortcut = nn.Sequential()\n",
    "\n",
    "        if stride != 1 or in_planes != self.expansion*planes:\n",
    "            self.shortcut = Shortcut(in_planes, planes, self.expansion, kernel_size=1, stride=stride, bias=False)\n",
    "\n",
    "    def forward(self, x):\n",
    "        self.conv1.weight.data = torch.mul(self.conv1.weight,  self.mask1.weight)\n",
    "        self.conv2.weight.data = torch.mul(self.conv2.weight,  self.mask2.weight)\n",
    "\n",
    "        out = F.relu(self.bn1(self.conv1(x)))\n",
    "        out = self.bn2(self.conv2(out))\n",
    "        out += self.shortcut(x)\n",
    "        out = F.relu(out)\n",
    "        return out\n",
    "\n",
    "    def __prune__(self, threshold):\n",
    "        self.mode = 'prune'\n",
    "        self.mask1.weight.data = torch.mul(torch.gt(torch.abs(self.conv1.weight), threshold).float(), self.mask1.weight)\n",
    "        self.mask2.weight.data = torch.mul(torch.gt(torch.abs(self.conv2.weight), threshold).float(), self.mask2.weight)\n",
    "\n",
    "        if isinstance(self.shortcut, Shortcut):\n",
    "            self.shortcut.__prune__(threshold)\n"
   ]
  },
  {
   "cell_type": "markdown",
   "metadata": {},
   "source": [
    "### see how they create intial mask for every convlayer and when passing forward, it multiplies with the masks\n",
    "<br>"
   ]
  },
  {
   "cell_type": "markdown",
   "metadata": {},
   "source": [
    "### for __pruning__, note that torch.gt computes (first argument) > (second argument) in element-wise manner.\n",
    "#### see for example :"
   ]
  },
  {
   "cell_type": "code",
   "execution_count": 6,
   "metadata": {},
   "outputs": [
    {
     "data": {
      "text/plain": [
       "tensor([[False,  True],\n",
       "        [False, False]])"
      ]
     },
     "execution_count": 6,
     "metadata": {},
     "output_type": "execute_result"
    }
   ],
   "source": [
    "torch.gt(torch.tensor([[1, 2], [3, 4]]), torch.tensor([[1, 1], [4, 4]]))"
   ]
  },
  {
   "cell_type": "markdown",
   "metadata": {},
   "source": [
    "### so, see how they make elements below threshold to be False, hence the multiplication would result in 0 --> masking!"
   ]
  },
  {
   "cell_type": "code",
   "execution_count": 37,
   "metadata": {},
   "outputs": [],
   "source": [
    "class ResNet(nn.Module):\n",
    "    def __init__(self, block, num_blocks, num_classes=10, mode='train'):\n",
    "        super(ResNet, self).__init__()\n",
    "        self.in_planes = 64\n",
    "        self.mode = mode\n",
    "        self.conv1  = nn.Conv2d(3, 64, kernel_size=3, stride=1, padding=1, bias=False)\n",
    "        self.mask1  = nn.Conv2d(3, 64, kernel_size=3, stride=1, padding=1, bias=False)\n",
    "        self.mask1.weight.data = torch.ones(self.mask1.weight.size())\n",
    "        self.bn1    = nn.BatchNorm2d(64)\n",
    "        self.layer1 = self._make_layer(block, 64, num_blocks[0], stride=1)\n",
    "        self.layer2 = self._make_layer(block, 128, num_blocks[1], stride=2)\n",
    "        self.layer3 = self._make_layer(block, 256, num_blocks[2], stride=2)\n",
    "        self.layer4 = self._make_layer(block, 512, num_blocks[3], stride=2)\n",
    "        self.linear = nn.Linear(512*block.expansion, num_classes)\n",
    "\n",
    "    def _make_layer(self, block, planes, num_blocks, stride):\n",
    "        strides = [stride] + [1]*(num_blocks-1)\n",
    "        layers = []\n",
    "        for stride in strides:\n",
    "            layers.append(block(self.in_planes, planes, stride))\n",
    "            self.in_planes = planes * block.expansion\n",
    "        return nn.Sequential(*layers)\n",
    "\n",
    "    def forward(self, x):\n",
    "        self.conv1.weight.data = torch.mul(self.conv1.weight,  self.mask1.weight)\n",
    "\n",
    "        out = F.relu(self.bn1(self.conv1(x)))\n",
    "        out = self.layer1(out)\n",
    "        out = self.layer2(out)\n",
    "        out = self.layer3(out)\n",
    "        out = self.layer4(out)\n",
    "        out = F.avg_pool2d(out, 4)\n",
    "        out = out.view(out.size(0), -1)\n",
    "        out = self.linear(out)\n",
    "        return out\n",
    "\n",
    "    def __prune__(self, threshold):\n",
    "        self.mode = 'prune'\n",
    "        self.mask1.weight.data = torch.mul(torch.gt(torch.abs(self.conv1.weight), threshold).float(), self.mask1.weight)\n",
    "        layers = [self.layer1, self.layer2, self.layer3, self.layer4]\n",
    "        for layer in layers:\n",
    "            for sub_block in layer:\n",
    "                sub_block.__prune__(threshold)"
   ]
  },
  {
   "cell_type": "code",
   "execution_count": 38,
   "metadata": {},
   "outputs": [],
   "source": [
    "def ResNet9():\n",
    "    return ResNet(BasicBlock, [1,1,1,1])\n",
    "\n",
    "def ResNet18():\n",
    "    return ResNet(BasicBlock, [2,2,2,2])\n",
    "\n",
    "def ResNet34():\n",
    "    return ResNet(BasicBlock, [3,4,6,3])\n",
    "\n",
    "def ResNet50():\n",
    "    return ResNet(Bottleneck, [3,4,6,3])\n",
    "\n",
    "def ResNet101():\n",
    "    return ResNet(Bottleneck, [3,4,23,3])\n",
    "\n",
    "def ResNet152():\n",
    "    return ResNet(Bottleneck, [3,8,36,3])"
   ]
  },
  {
   "cell_type": "code",
   "execution_count": 39,
   "metadata": {},
   "outputs": [],
   "source": [
    "# load the model\n",
    "model, sd = load_model(model, args.checkpoint, old_format=False)"
   ]
  },
  {
   "cell_type": "code",
   "execution_count": 40,
   "metadata": {},
   "outputs": [],
   "source": [
    "if args.prune_checkpoint == '':\n",
    "    prune_checkpoint = args.checkpoint + '_l1_'\n",
    "else:\n",
    "    prune_checkpoint = args.prune_checkpoint"
   ]
  },
  {
   "cell_type": "code",
   "execution_count": 41,
   "metadata": {},
   "outputs": [
    {
     "data": {
      "text/plain": [
       "ResNet(\n",
       "  (conv1): Conv2d(3, 64, kernel_size=(3, 3), stride=(1, 1), padding=(1, 1), bias=False)\n",
       "  (mask1): Conv2d(3, 64, kernel_size=(3, 3), stride=(1, 1), padding=(1, 1), bias=False)\n",
       "  (bn1): BatchNorm2d(64, eps=1e-05, momentum=0.1, affine=True, track_running_stats=True)\n",
       "  (layer1): Sequential(\n",
       "    (0): BasicBlock(\n",
       "      (conv1): Conv2d(64, 64, kernel_size=(3, 3), stride=(1, 1), padding=(1, 1), bias=False)\n",
       "      (mask1): Conv2d(64, 64, kernel_size=(3, 3), stride=(1, 1), padding=(1, 1), bias=False)\n",
       "      (bn1): BatchNorm2d(64, eps=1e-05, momentum=0.1, affine=True, track_running_stats=True)\n",
       "      (conv2): Conv2d(64, 64, kernel_size=(3, 3), stride=(1, 1), padding=(1, 1), bias=False)\n",
       "      (mask2): Conv2d(64, 64, kernel_size=(3, 3), stride=(1, 1), padding=(1, 1), bias=False)\n",
       "      (bn2): BatchNorm2d(64, eps=1e-05, momentum=0.1, affine=True, track_running_stats=True)\n",
       "      (shortcut): Sequential()\n",
       "    )\n",
       "  )\n",
       "  (layer2): Sequential(\n",
       "    (0): BasicBlock(\n",
       "      (conv1): Conv2d(64, 128, kernel_size=(3, 3), stride=(2, 2), padding=(1, 1), bias=False)\n",
       "      (mask1): Conv2d(64, 128, kernel_size=(3, 3), stride=(2, 2), padding=(1, 1), bias=False)\n",
       "      (bn1): BatchNorm2d(128, eps=1e-05, momentum=0.1, affine=True, track_running_stats=True)\n",
       "      (conv2): Conv2d(128, 128, kernel_size=(3, 3), stride=(1, 1), padding=(1, 1), bias=False)\n",
       "      (mask2): Conv2d(128, 128, kernel_size=(3, 3), stride=(1, 1), padding=(1, 1), bias=False)\n",
       "      (bn2): BatchNorm2d(128, eps=1e-05, momentum=0.1, affine=True, track_running_stats=True)\n",
       "      (shortcut): Shortcut(\n",
       "        (conv1): Conv2d(64, 128, kernel_size=(1, 1), stride=(2, 2), bias=False)\n",
       "        (mask1): Conv2d(64, 128, kernel_size=(1, 1), stride=(2, 2), bias=False)\n",
       "        (bn1): BatchNorm2d(128, eps=1e-05, momentum=0.1, affine=True, track_running_stats=True)\n",
       "      )\n",
       "    )\n",
       "  )\n",
       "  (layer3): Sequential(\n",
       "    (0): BasicBlock(\n",
       "      (conv1): Conv2d(128, 256, kernel_size=(3, 3), stride=(2, 2), padding=(1, 1), bias=False)\n",
       "      (mask1): Conv2d(128, 256, kernel_size=(3, 3), stride=(2, 2), padding=(1, 1), bias=False)\n",
       "      (bn1): BatchNorm2d(256, eps=1e-05, momentum=0.1, affine=True, track_running_stats=True)\n",
       "      (conv2): Conv2d(256, 256, kernel_size=(3, 3), stride=(1, 1), padding=(1, 1), bias=False)\n",
       "      (mask2): Conv2d(256, 256, kernel_size=(3, 3), stride=(1, 1), padding=(1, 1), bias=False)\n",
       "      (bn2): BatchNorm2d(256, eps=1e-05, momentum=0.1, affine=True, track_running_stats=True)\n",
       "      (shortcut): Shortcut(\n",
       "        (conv1): Conv2d(128, 256, kernel_size=(1, 1), stride=(2, 2), bias=False)\n",
       "        (mask1): Conv2d(128, 256, kernel_size=(1, 1), stride=(2, 2), bias=False)\n",
       "        (bn1): BatchNorm2d(256, eps=1e-05, momentum=0.1, affine=True, track_running_stats=True)\n",
       "      )\n",
       "    )\n",
       "  )\n",
       "  (layer4): Sequential(\n",
       "    (0): BasicBlock(\n",
       "      (conv1): Conv2d(256, 512, kernel_size=(3, 3), stride=(2, 2), padding=(1, 1), bias=False)\n",
       "      (mask1): Conv2d(256, 512, kernel_size=(3, 3), stride=(2, 2), padding=(1, 1), bias=False)\n",
       "      (bn1): BatchNorm2d(512, eps=1e-05, momentum=0.1, affine=True, track_running_stats=True)\n",
       "      (conv2): Conv2d(512, 512, kernel_size=(3, 3), stride=(1, 1), padding=(1, 1), bias=False)\n",
       "      (mask2): Conv2d(512, 512, kernel_size=(3, 3), stride=(1, 1), padding=(1, 1), bias=False)\n",
       "      (bn2): BatchNorm2d(512, eps=1e-05, momentum=0.1, affine=True, track_running_stats=True)\n",
       "      (shortcut): Shortcut(\n",
       "        (conv1): Conv2d(256, 512, kernel_size=(1, 1), stride=(2, 2), bias=False)\n",
       "        (mask1): Conv2d(256, 512, kernel_size=(1, 1), stride=(2, 2), bias=False)\n",
       "        (bn1): BatchNorm2d(512, eps=1e-05, momentum=0.1, affine=True, track_running_stats=True)\n",
       "      )\n",
       "    )\n",
       "  )\n",
       "  (linear): Linear(in_features=512, out_features=10, bias=True)\n",
       ")"
      ]
     },
     "execution_count": 41,
     "metadata": {},
     "output_type": "execute_result"
    }
   ],
   "source": [
    "if torch.cuda.is_available():\n",
    "    model = model.cuda()\n",
    "model.to(device)"
   ]
  },
  {
   "cell_type": "markdown",
   "metadata": {},
   "source": [
    "### For the datasets, we're going to use CIFAR 10"
   ]
  },
  {
   "cell_type": "code",
   "execution_count": 42,
   "metadata": {},
   "outputs": [
    {
     "name": "stdout",
     "output_type": "stream",
     "text": [
      "Files already downloaded and verified\n",
      "Files already downloaded and verified\n"
     ]
    }
   ],
   "source": [
    "trainloader, testloader = get_cifar_loaders(args.data_loc, cutout=args.cutout)\n",
    "criterion = nn.CrossEntropyLoss()"
   ]
  },
  {
   "cell_type": "markdown",
   "metadata": {},
   "source": [
    "### Model primarily consists of masks for each layers to delete the pruned units; hence, we need if condition as below"
   ]
  },
  {
   "cell_type": "code",
   "execution_count": 43,
   "metadata": {},
   "outputs": [],
   "source": [
    "optimizer = optim.SGD([w for name, w in model.named_parameters() if not 'mask' in name], lr=args.lr, momentum=0.9, weight_decay=args.weight_decay)"
   ]
  },
  {
   "cell_type": "markdown",
   "metadata": {},
   "source": [
    "### above optimizer will be used in finetuning <br>\n",
    "<br>"
   ]
  },
  {
   "cell_type": "markdown",
   "metadata": {},
   "source": [
    "### for the learning rate in finetuning, the paper suggests to take much smaller value than for the previous training, therefore"
   ]
  },
  {
   "cell_type": "code",
   "execution_count": 44,
   "metadata": {},
   "outputs": [
    {
     "name": "stderr",
     "output_type": "stream",
     "text": [
      "/home/jaeyeon/.local/lib/python3.8/site-packages/torch/optim/lr_scheduler.py:117: UserWarning: Detected call of `lr_scheduler.step()` before `optimizer.step()`. In PyTorch 1.1.0 and later, you should call them in the opposite order: `optimizer.step()` before `lr_scheduler.step()`.  Failure to do this will result in PyTorch skipping the first value of the learning rate schedule. See more details at https://pytorch.org/docs/stable/optim.html#how-to-adjust-learning-rate\n",
      "  warnings.warn(\"Detected call of `lr_scheduler.step()` before `optimizer.step()`. \"\n"
     ]
    }
   ],
   "source": [
    "# set the learning rate to be 1/8th of final LR\n",
    "scheduler = lr_scheduler.CosineAnnealingLR(optimizer, 200, eta_min=1e-10)\n",
    "for epoch in range(sd['epoch']):\n",
    "    scheduler.step()\n",
    "for group in optimizer.param_groups:\n",
    "    group['lr'] = scheduler.get_lr()[0]"
   ]
  },
  {
   "cell_type": "markdown",
   "metadata": {},
   "source": [
    "## defining functions:"
   ]
  },
  {
   "cell_type": "markdown",
   "metadata": {},
   "source": [
    "### 1. functions for pruning"
   ]
  },
  {
   "cell_type": "code",
   "execution_count": 17,
   "metadata": {},
   "outputs": [],
   "source": [
    "# recursive function; starting from the empty stack (layers = torch.Tensor()), it concatenate the model weight \n",
    "\n",
    "def expand_model(model, layers=torch.Tensor()):\n",
    "    for layer in model.children():\n",
    "         if len(list(layer.children())) > 0:\n",
    "             layers = expand_model(layer, layers)\n",
    "         else:\n",
    "             if isinstance(layer, nn.Conv2d) and 'mask' not in layer._get_name():\n",
    "                 layers = torch.cat((layers.view(-1), layer.weight.view(-1)))\n",
    "    return layers\n",
    "\n",
    "# the rest are intuitive\n",
    "\n",
    "def calculate_threshold(model, rate):\n",
    "    empty = torch.Tensor()\n",
    "    if torch.cuda.is_available():\n",
    "        empty = empty.cuda()\n",
    "    pre_abs = expand_model(model, empty)\n",
    "    weights = torch.abs(pre_abs)\n",
    "\n",
    "    return np.percentile(weights.detach().cpu().numpy(), rate)\n",
    "\n",
    "def sparsify(model, prune_rate=50.):\n",
    "    threshold = calculate_threshold(model, prune_rate)\n",
    "    try:\n",
    "        model.__prune__(threshold)\n",
    "    except:\n",
    "        model.module.__prune__(threshold)\n",
    "    return model"
   ]
  },
  {
   "cell_type": "markdown",
   "metadata": {},
   "source": [
    "### 2. function for computing error"
   ]
  },
  {
   "cell_type": "code",
   "execution_count": 45,
   "metadata": {},
   "outputs": [],
   "source": [
    "def get_error(output, target, topk=(1,)):\n",
    "    \"\"\"Computes the error@k for the specified values of k\"\"\"\n",
    "    maxk = max(topk)\n",
    "    batch_size = target.size(0)\n",
    "\n",
    "    _, pred = output.topk(maxk, 1, True, True) # returning index of k classes with largest value for each input, sorted in order\n",
    "    pred = pred.t()\n",
    "    correct = pred.eq(target.view(1, -1).expand_as(pred)) # k * batch_size\n",
    "\n",
    "    res = []\n",
    "    for k in topk:\n",
    "        correct_k = correct[:k].view(-1).float().sum(0, keepdim=True)\n",
    "        res.append(100.0 - correct_k.mul_(100.0 / batch_size))\n",
    "    return res"
   ]
  },
  {
   "cell_type": "markdown",
   "metadata": {},
   "source": [
    "### 3. Modules for training, testing, and finetuning"
   ]
  },
  {
   "cell_type": "code",
   "execution_count": 46,
   "metadata": {},
   "outputs": [],
   "source": [
    "class AverageMeter(object):\n",
    "    \"\"\"Computes and stores the average and current value\"\"\"\n",
    "    def __init__(self):\n",
    "        self.reset()\n",
    "\n",
    "    def reset(self):\n",
    "        self.val = 0\n",
    "        self.avg = 0\n",
    "        self.sum = 0\n",
    "        self.count = 0\n",
    "\n",
    "    def update(self, val, n=1):\n",
    "        self.val = val\n",
    "        self.sum += val * n\n",
    "        self.count += n\n",
    "        self.avg = self.sum / self.count"
   ]
  },
  {
   "cell_type": "code",
   "execution_count": 47,
   "metadata": {},
   "outputs": [],
   "source": [
    "def train(model, trainloader, criterion, optimizer):\n",
    "    batch_time = AverageMeter()\n",
    "    data_time  = AverageMeter()\n",
    "    losses     = AverageMeter()\n",
    "    top1       = AverageMeter()\n",
    "    top5       = AverageMeter()\n",
    "\n",
    "    # switch to train mode\n",
    "    model.train()\n",
    "    for i, (input, target) in enumerate(trainloader):\n",
    "        input, target = input.to(device), target.to(device)\n",
    "\n",
    "        # compute output\n",
    "        output = model(input)\n",
    "        loss = criterion(output, target)\n",
    "\n",
    "        # measure accuracy and record loss\n",
    "        err1, err5 = get_error(output.detach(), target, topk=(1, 5))\n",
    "\n",
    "        losses.update(loss.item(), input.size(0))\n",
    "        top1.update(err1.item(), input.size(0))\n",
    "        top5.update(err5.item(), input.size(0))\n",
    "\n",
    "        # compute gradient and do SGD step\n",
    "        optimizer.zero_grad()\n",
    "        loss.backward()\n",
    "        optimizer.step()\n",
    "\n",
    "def validate(model, epoch, valloader, criterion, checkpoint=None):\n",
    "    global error_history\n",
    "\n",
    "    batch_time = AverageMeter()\n",
    "    data_time = AverageMeter()\n",
    "\n",
    "    losses = AverageMeter()\n",
    "    top1 = AverageMeter()\n",
    "    top5 = AverageMeter()\n",
    "\n",
    "    # switch to evaluate mode\n",
    "    model.eval()\n",
    "\n",
    "    for i, (input, target) in enumerate(valloader):\n",
    "        input, target = input.to(device), target.to(device)\n",
    "        # compute output\n",
    "        output = model(input)\n",
    "        loss = criterion(output, target)\n",
    "        err1, err5 = get_error(output.detach(), target, topk=(1, 5))\n",
    "\n",
    "        losses.update(loss.item(), input.size(0))\n",
    "        top1.update(err1.item(), input.size(0))\n",
    "        top5.update(err5.item(), input.size(0))\n",
    "\n",
    "    error_history.append(top1.avg)\n",
    "    if checkpoint:\n",
    "\n",
    "        state = {\n",
    "            'net': model.state_dict(),\n",
    "            'masks': [w for name, w in model.named_parameters() if 'mask' in name],\n",
    "            'epoch': epoch,\n",
    "            'error_history': error_history,\n",
    "        }\n",
    "        torch.save(state, 'checkpoints/%s.t7' % checkpoint)\n",
    "\n",
    "def finetune(model, trainloader, criterion, optimizer, steps=100):\n",
    "    # switch to train mode\n",
    "    model.train()\n",
    "    dataiter = iter(trainloader)\n",
    "    for i in range(steps):\n",
    "        try:\n",
    "            input, target = dataiter.next()\n",
    "        except StopIteration:\n",
    "            dataiter = iter(trainloader)\n",
    "            input, target = dataiter.next()\n",
    "\n",
    "        input, target = input.to(device), target.to(device)\n",
    "\n",
    "        # compute output\n",
    "        output = model(input)\n",
    "        loss = criterion(output, target)\n",
    "\n",
    "        # compute gradient and do SGD step\n",
    "        optimizer.zero_grad()\n",
    "        loss.backward()\n",
    "        optimizer.step()"
   ]
  },
  {
   "cell_type": "markdown",
   "metadata": {},
   "source": [
    "## Let's prune the pretrained model"
   ]
  },
  {
   "cell_type": "code",
   "execution_count": 21,
   "metadata": {},
   "outputs": [
    {
     "name": "stderr",
     "output_type": "stream",
     "text": [
      "100%|██████████| 100/100 [06:39<00:00,  3.99s/it]\n"
     ]
    }
   ],
   "source": [
    "for prune_rate in tqdm(range(100)):\n",
    "    model = sparsify(model, prune_rate)\n",
    "\n",
    "    if prune_rate % args.save_every == 0:\n",
    "        checkpoint = prune_checkpoint + str(prune_rate)\n",
    "    else:\n",
    "        checkpoint = None # don't bother saving anything\n",
    "\n",
    "    finetune(model, trainloader, criterion, optimizer, args.finetune_steps)\n",
    "\n",
    "    if checkpoint:\n",
    "        validate(model, prune_rate, testloader, criterion, checkpoint=checkpoint)"
   ]
  },
  {
   "cell_type": "markdown",
   "metadata": {},
   "source": [
    "## Now let's see what we've got"
   ]
  },
  {
   "cell_type": "code",
   "execution_count": 22,
   "metadata": {},
   "outputs": [],
   "source": [
    "import torch\n",
    "import numpy as np\n",
    "import matplotlib.pyplot as plt\n",
    "from utils import *\n",
    "from models import *\n",
    "plt.style.use('ggplot')\n",
    "%matplotlib inline"
   ]
  },
  {
   "cell_type": "code",
   "execution_count": 23,
   "metadata": {},
   "outputs": [],
   "source": [
    "# count only conv params for now\n",
    "def get_no_params(net, verbose=False, mask=False):\n",
    "    params = net\n",
    "    tot = 0\n",
    "    for p in params:\n",
    "        no = torch.sum(params[p]!=0)\n",
    "        if 'conv' in p:\n",
    "            tot += no\n",
    "    return tot"
   ]
  },
  {
   "cell_type": "code",
   "execution_count": 24,
   "metadata": {},
   "outputs": [
    {
     "data": {
      "image/png": "[encoded data removed]",
      "text/plain": [
       "<Figure size 864x432 with 1 Axes>"
      ]
     },
     "metadata": {
      "needs_background": "light"
     },
     "output_type": "display_data"
    }
   ],
   "source": [
    "fig,ax      = plt.subplots(figsize=(12,6))\n",
    "prune_rates = np.arange(0,100,step=5)\n",
    "checkpoints = ['resnet9','resnet18','resnet34']\n",
    "\n",
    "def get_nonzeros(sd):\n",
    "    tot = 0\n",
    "    for mask in sd['masks']:\n",
    "        tot += torch.sum(mask!=0)\n",
    "    return tot\n",
    "\n",
    "for checkpoint in checkpoints:\n",
    "    x = []\n",
    "    y = []\n",
    "    for prune_rate in prune_rates:\n",
    "        sd = torch.load('checkpoints/%s.t7' % str(checkpoint + '_l1_' + str(prune_rate)), map_location='cpu')\n",
    "        x.append(get_nonzeros(sd))\n",
    "        y.append(sd['error_history'][-1])\n",
    "    ax.plot(x,y,marker='o')\n",
    "\n",
    "x = []\n",
    "y = []\n",
    "\n",
    "for checkpoint in checkpoints:\n",
    "    sd = torch.load('checkpoints/%s.t7' % checkpoint, map_location='cpu')\n",
    "    \n",
    "    x_  = get_no_params(sd['net'])\n",
    "    y_  = sd['error_history'][-1]\n",
    "    x.append(x_)\n",
    "    y.append(y_)\n",
    "    \n",
    "for i, net in enumerate(checkpoints):\n",
    "    offset = 0.1\n",
    "    ax.annotate(net, (x[i]+offset, y[i]+offset))    \n",
    "ax.plot(x,y, marker='o')\n",
    "\n",
    "ax.set_xlabel('Num nonzero params')\n",
    "ax.set_ylabel('Top-1 Error (%)')\n",
    "plt.show()\n"
   ]
  }
 ],
 "metadata": {
  "kernelspec": {
   "display_name": "pruning",
   "language": "python",
   "name": "pruning"
  },
  "language_info": {
   "codemirror_mode": {
    "name": "ipython",
    "version": 3
   },
   "file_extension": ".py",
   "mimetype": "text/x-python",
   "name": "python",
   "nbconvert_exporter": "python",
   "pygments_lexer": "ipython3",
   "version": "3.8.3"
  }
 },
 "nbformat": 4,
 "nbformat_minor": 4
}
